{
  "nbformat": 4,
  "nbformat_minor": 0,
  "metadata": {
    "colab": {
      "name": "Python Simulation",
      "provenance": [],
      "authorship_tag": "ABX9TyN73x5qdIgANT7/hdGt3Hyd",
      "include_colab_link": true
    },
    "kernelspec": {
      "name": "python3",
      "display_name": "Python 3"
    },
    "language_info": {
      "name": "python"
    }
  },
  "cells": [
    {
      "cell_type": "markdown",
      "metadata": {
        "id": "view-in-github",
        "colab_type": "text"
      },
      "source": [
        "<a href=\"https://colab.research.google.com/github/Shellawati/hello-world/blob/main/Python_Simulation.ipynb\" target=\"_parent\"><img src=\"https://colab.research.google.com/assets/colab-badge.svg\" alt=\"Open In Colab\"/></a>"
      ]
    },
    {
      "cell_type": "markdown",
      "source": [
        "# Variable"
      ],
      "metadata": {
        "id": "H5XQlAPeHzIl"
      }
    },
    {
      "cell_type": "markdown",
      "source": [
        "Assigning variable is easy, you can use format {variable name} = {the data}. Variable can be assigned with various data type. Let's try to assign simple data type to a variable."
      ],
      "metadata": {
        "id": "85zVy0KPH5_G"
      }
    },
    {
      "cell_type": "code",
      "execution_count": 12,
      "metadata": {
        "id": "sCe5e6j0F-mS"
      },
      "outputs": [],
      "source": [
        "first_name = 'Silva'\n",
        "last_name  = 'Taqwa'\n",
        "age = 25\n",
        "gender   = 'Male'\n",
        "umur_bukan_angka = '25'"
      ]
    },
    {
      "cell_type": "markdown",
      "source": [
        "After assigning data to the variables, you can retrieve the information or data stored in that variable by using \"print()\"function."
      ],
      "metadata": {
        "id": "vsYYBmdNIexk"
      }
    },
    {
      "cell_type": "code",
      "source": [
        "first_name+last_name"
      ],
      "metadata": {
        "colab": {
          "base_uri": "https://localhost:8080/",
          "height": 36
        },
        "id": "S7c4VKZQKzuv",
        "outputId": "381155c2-f7ae-4b70-de2c-e25acd387a4f"
      },
      "execution_count": 14,
      "outputs": [
        {
          "output_type": "execute_result",
          "data": {
            "text/plain": [
              "'SilvaTaqwa'"
            ],
            "application/vnd.google.colaboratory.intrinsic+json": {
              "type": "string"
            }
          },
          "metadata": {},
          "execution_count": 14
        }
      ]
    },
    {
      "cell_type": "code",
      "source": [
        "age+age"
      ],
      "metadata": {
        "colab": {
          "base_uri": "https://localhost:8080/"
        },
        "id": "u9sQ-1x5KcLR",
        "outputId": "9572183e-d117-4dac-b654-db0af97f934c"
      },
      "execution_count": 11,
      "outputs": [
        {
          "output_type": "execute_result",
          "data": {
            "text/plain": [
              "50"
            ]
          },
          "metadata": {},
          "execution_count": 11
        }
      ]
    },
    {
      "cell_type": "code",
      "source": [
        "print (first_name)"
      ],
      "metadata": {
        "colab": {
          "base_uri": "https://localhost:8080/"
        },
        "id": "HWo1Huj0IxyQ",
        "outputId": "15c39d7f-c141-47f2-da85-3bce52d39032"
      },
      "execution_count": 6,
      "outputs": [
        {
          "output_type": "stream",
          "name": "stdout",
          "text": [
            "Silva\n"
          ]
        }
      ]
    },
    {
      "cell_type": "markdown",
      "source": [
        "You can also assign data by mentioning several variable names in one line and sparating them with commas."
      ],
      "metadata": {
        "id": "3DcUGhAvI6ee"
      }
    },
    {
      "cell_type": "code",
      "source": [
        "first_name, last_name, age = 'Snow', 'White', 20"
      ],
      "metadata": {
        "id": "xkjGvwuHJSnv"
      },
      "execution_count": 18,
      "outputs": []
    },
    {
      "cell_type": "code",
      "source": [
        "print (first_name)"
      ],
      "metadata": {
        "colab": {
          "base_uri": "https://localhost:8080/"
        },
        "id": "Fq2dIoZlKGlX",
        "outputId": "9161d020-2501-4d09-953b-a610af38ca99"
      },
      "execution_count": 7,
      "outputs": [
        {
          "output_type": "stream",
          "name": "stdout",
          "text": [
            "Silva\n"
          ]
        }
      ]
    },
    {
      "cell_type": "markdown",
      "source": [
        "# Integer, Float, Boolean, String"
      ],
      "metadata": {
        "id": "h2PcfaV6LA4h"
      }
    },
    {
      "cell_type": "markdown",
      "source": [
        "You can retrieve the type of data using \"type()\" function."
      ],
      "metadata": {
        "id": "ZSQAM0B6LyQw"
      }
    },
    {
      "cell_type": "markdown",
      "source": [
        "angka 24, tipe datanya apa ?"
      ],
      "metadata": {
        "id": "cBVsN9WhMAxa"
      }
    },
    {
      "cell_type": "code",
      "source": [
        "#this is data type integer\n",
        "type(24)"
      ],
      "metadata": {
        "colab": {
          "base_uri": "https://localhost:8080/"
        },
        "id": "xuMO4aDrMOlf",
        "outputId": "e736b1d0-702a-480f-f117-7a39ebed4009"
      },
      "execution_count": 20,
      "outputs": [
        {
          "output_type": "execute_result",
          "data": {
            "text/plain": [
              "int"
            ]
          },
          "metadata": {},
          "execution_count": 20
        }
      ]
    },
    {
      "cell_type": "code",
      "source": [
        "# this is adata type float\n",
        "type(3.14)"
      ],
      "metadata": {
        "colab": {
          "base_uri": "https://localhost:8080/"
        },
        "id": "UhopOeccMVqs",
        "outputId": "3290288f-9aa7-4a54-d2af-86cfbd88e345"
      },
      "execution_count": 21,
      "outputs": [
        {
          "output_type": "execute_result",
          "data": {
            "text/plain": [
              "float"
            ]
          },
          "metadata": {},
          "execution_count": 21
        }
      ]
    },
    {
      "cell_type": "code",
      "source": [
        "# this is data type boolean\n",
        "type(False)"
      ],
      "metadata": {
        "colab": {
          "base_uri": "https://localhost:8080/"
        },
        "id": "EqluPsA7MkKB",
        "outputId": "b5c382cb-a89b-41f9-bcc3-40fbf982c698"
      },
      "execution_count": 22,
      "outputs": [
        {
          "output_type": "execute_result",
          "data": {
            "text/plain": [
              "bool"
            ]
          },
          "metadata": {},
          "execution_count": 22
        }
      ]
    },
    {
      "cell_type": "code",
      "source": [
        "x = 5\n",
        "type(x)"
      ],
      "metadata": {
        "colab": {
          "base_uri": "https://localhost:8080/"
        },
        "id": "KuI82Z9uMvoi",
        "outputId": "d69c1927-3430-494d-aad4-2db431c5f3b9"
      },
      "execution_count": 27,
      "outputs": [
        {
          "output_type": "execute_result",
          "data": {
            "text/plain": [
              "int"
            ]
          },
          "metadata": {},
          "execution_count": 27
        }
      ]
    },
    {
      "cell_type": "code",
      "source": [
        "# this is data type string\n",
        "y = 'Indonesia'\n",
        "type(y)"
      ],
      "metadata": {
        "colab": {
          "base_uri": "https://localhost:8080/"
        },
        "id": "U86da6GzNE5k",
        "outputId": "15f767ba-5f93-4606-c5f7-ecd806cc97f4"
      },
      "execution_count": 28,
      "outputs": [
        {
          "output_type": "execute_result",
          "data": {
            "text/plain": [
              "str"
            ]
          },
          "metadata": {},
          "execution_count": 28
        }
      ]
    },
    {
      "cell_type": "markdown",
      "source": [
        "You can use the \"len()\" function to know the length or number of characters of a particular string."
      ],
      "metadata": {
        "id": "JX8-wfi3NQAn"
      }
    },
    {
      "cell_type": "code",
      "source": [
        "len(y)"
      ],
      "metadata": {
        "colab": {
          "base_uri": "https://localhost:8080/"
        },
        "id": "WeC5SXOVNg4D",
        "outputId": "9f4addd6-1f3d-45d2-a6ac-a3dd19498350"
      },
      "execution_count": 29,
      "outputs": [
        {
          "output_type": "execute_result",
          "data": {
            "text/plain": [
              "9"
            ]
          },
          "metadata": {},
          "execution_count": 29
        }
      ]
    },
    {
      "cell_type": "markdown",
      "source": [
        "You can retrieve the particular character from a string using its index. The first character's index is 0."
      ],
      "metadata": {
        "id": "8id7DqO3NmWs"
      }
    },
    {
      "cell_type": "code",
      "source": [
        "print(y[0])\n",
        "print(y[5])"
      ],
      "metadata": {
        "colab": {
          "base_uri": "https://localhost:8080/"
        },
        "id": "QTH6UkihNz0e",
        "outputId": "8f0537df-d9a7-4993-ea01-d0aceb18c80c"
      },
      "execution_count": 32,
      "outputs": [
        {
          "output_type": "stream",
          "name": "stdout",
          "text": [
            "I\n",
            "n\n"
          ]
        }
      ]
    }
  ]
}